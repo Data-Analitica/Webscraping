{
 "cells": [
  {
   "cell_type": "code",
   "execution_count": 1,
   "metadata": {},
   "outputs": [],
   "source": [
    "import requests as r"
   ]
  },
  {
   "cell_type": "code",
   "execution_count": 2,
   "metadata": {},
   "outputs": [],
   "source": [
    "url = \"https://api.coinbase.com/v2/exchange-rates\"\n",
    "parametros = { \"currency\": \"BTC\" }\n",
    "resposta = r.get(url, params=parametros)"
   ]
  },
  {
   "cell_type": "code",
   "execution_count": 3,
   "metadata": {},
   "outputs": [
    {
     "name": "stdout",
     "output_type": "stream",
     "text": [
      "A taxa de câmbio do Bitcoin para o Real é: 221097.24635740035. Ou seja, 1 Bitcoin corresponde a 221097.25 reais.\n"
     ]
    }
   ],
   "source": [
    "if resposta.status_code == 200:\n",
    "    dados = resposta.json()\n",
    "    taxa_bitcoin_real = float(dados['data']['rates']['BRL'])\n",
    "    taxa_formatada = \"{:.2f}\".format(taxa_bitcoin_real)\n",
    "    print(f\"A taxa de câmbio do Bitcoin para o Real é: {taxa_bitcoin_real}. Ou seja, 1 Bitcoin corresponde a {taxa_formatada} reais.\")\n",
    "else:\n",
    "    print(\"Houve um problema ao obter os dados. Por favor, tente novamente mais tarde.\")\n"
   ]
  },
  {
   "cell_type": "code",
   "execution_count": 4,
   "metadata": {},
   "outputs": [
    {
     "name": "stdout",
     "output_type": "stream",
     "text": [
      "A taxa de câmbio do Bitcoin para o Dólar é: 45270.335. Ou seja, 1 Bitcoin corresponde a 45270.33 dólares.\n"
     ]
    }
   ],
   "source": [
    "if resposta.status_code == 200:\n",
    "    dados = resposta.json()\n",
    "    taxa_bitcoin_dolar = float(dados['data']['rates']['USD'])\n",
    "    taxa_formatada = \"{:.2f}\".format(taxa_bitcoin_dolar)\n",
    "    print(f\"A taxa de câmbio do Bitcoin para o Dólar é: {taxa_bitcoin_dolar}. Ou seja, 1 Bitcoin corresponde a {taxa_formatada} dólares.\")\n",
    "else:\n",
    "    print(\"Houve um problema ao obter os dados. Por favor, tente novamente mais tarde.\")"
   ]
  }
 ],
 "metadata": {
  "kernelspec": {
   "display_name": "Python 3",
   "language": "python",
   "name": "python3"
  },
  "language_info": {
   "codemirror_mode": {
    "name": "ipython",
    "version": 3
   },
   "file_extension": ".py",
   "mimetype": "text/x-python",
   "name": "python",
   "nbconvert_exporter": "python",
   "pygments_lexer": "ipython3",
   "version": "3.11.3"
  },
  "orig_nbformat": 4
 },
 "nbformat": 4,
 "nbformat_minor": 2
}
